{
  "nbformat": 4,
  "nbformat_minor": 0,
  "metadata": {
    "colab": {
      "provenance": [],
      "authorship_tag": "ABX9TyMH43MjP7k9bs4Iz2JPyHcF",
      "include_colab_link": true
    },
    "kernelspec": {
      "name": "python3",
      "display_name": "Python 3"
    },
    "language_info": {
      "name": "python"
    }
  },
  "cells": [
    {
      "cell_type": "markdown",
      "metadata": {
        "id": "view-in-github",
        "colab_type": "text"
      },
      "source": [
        "<a href=\"https://colab.research.google.com/github/trkrceyy/HTML/blob/main/Untitled4.ipynb\" target=\"_parent\"><img src=\"https://colab.research.google.com/assets/colab-badge.svg\" alt=\"Open In Colab\"/></a>"
      ]
    },
    {
      "cell_type": "code",
      "source": [
        "#kullanıcı_adi =admin\n",
        "#sifre 1234\n",
        "\n",
        "kullanıcı_adi= input(\"kullanıcı adınızı giriniz:\")\n",
        "sifre= input(\"şifrenizi giriniz:\")\n",
        "\n",
        "if kullanıcı_adi == \"admin\" and sifre == \"1234\":\n",
        "    print(\"hoşgeldiniz\")\n",
        "else:\n",
        "    print(\"hatalı kullanıcı adı veya şifre\")"
      ],
      "metadata": {
        "colab": {
          "base_uri": "https://localhost:8080/"
        },
        "id": "FqD0L4bC5GA7",
        "outputId": "5940d5e0-fc16-45e4-869e-adbb4276d1f1"
      },
      "execution_count": null,
      "outputs": [
        {
          "output_type": "stream",
          "name": "stdout",
          "text": [
            "kullanıcı adınızı giriniz:admin\n",
            "şifrenizi giriniz:1234\n",
            "hoşgeldiniz\n"
          ]
        }
      ]
    },
    {
      "cell_type": "code",
      "source": [
        "#bir sayinin mutlak değerini alan algoritma\n",
        "sayi = int(input(\"bir sayi giriniz:\"))\n",
        "\n",
        "if sayi < 0:\n",
        "    sonuc = -sayi\n",
        "else:\n",
        "    sonuc = sayi\n",
        "print (\"Sayinin mutlak değeri:\",sonuc)"
      ],
      "metadata": {
        "colab": {
          "base_uri": "https://localhost:8080/"
        },
        "id": "NojBIAr86Hye",
        "outputId": "5b7782ac-a9c2-4117-90b9-9cd1fa013621"
      },
      "execution_count": null,
      "outputs": [
        {
          "output_type": "stream",
          "name": "stdout",
          "text": [
            "bir sayi giriniz:5\n",
            "Sayinin mutlak değeri: 5\n"
          ]
        }
      ]
    },
    {
      "cell_type": "code",
      "source": [
        "#harf sesli mi sessiz mi\n",
        "harf= input(\"bir harf giriniz:\")\n",
        "\n",
        "if harf in \"aeiouAEIOU\":\n",
        "    print(\"sesli harf\")\n",
        "else:\n",
        "    print(\"sessiz harf\")\n"
      ],
      "metadata": {
        "id": "zoz29Qy57qzL",
        "colab": {
          "base_uri": "https://localhost:8080/"
        },
        "outputId": "6752e76f-26c7-4d45-8343-58412edfaa0f"
      },
      "execution_count": 20,
      "outputs": [
        {
          "output_type": "stream",
          "name": "stdout",
          "text": [
            "bir harf giriniz:e\n",
            "sesli harf\n"
          ]
        }
      ]
    },
    {
      "cell_type": "code",
      "source": [
        "#Artık yıl hesaplama 4/100 e tam bölünecek ya da kalan 0\n",
        "yıl= int(input(\"bir yıl giriniz:\"))\n",
        "\n",
        "if (yıl % 4 == 0 and yıl % 100 != 0) or yıl % 400 == 0:\n",
        "    print(\"artık yıl\")\n",
        "else:\n",
        "    print(\"artık yıl değil\")"
      ],
      "metadata": {
        "colab": {
          "base_uri": "https://localhost:8080/"
        },
        "id": "Xe0bCplm83h4",
        "outputId": "75c71041-850d-4920-cc7e-07a77319b2a4"
      },
      "execution_count": 25,
      "outputs": [
        {
          "output_type": "stream",
          "name": "stdout",
          "text": [
            "bir yıl giriniz:6\n",
            "artık yıl değil\n"
          ]
        }
      ]
    },
    {
      "cell_type": "code",
      "source": [
        "#ikinci dereceden denklem kök sayisi hesaplama\n",
        "a,b,c =1,-5,6\n",
        "delta =b**2-4*a*c\n",
        "if delta > 0:\n",
        "    print(\"iki kök vardır\")\n",
        "elif delta == 0:\n",
        "    print(\"bir kök vardır\")\n",
        "else:\n",
        "    print(\"kök yoktur\")\n",
        "    x1=(-b+delta**0.5)/(2*a)\n",
        "    x2=(-b-delta**0.5)/(2*a)\n",
        "    print(\"kökler:\",x1,x2)\n",
        "    if delta < 0:\n",
        "        print(\"kök yoktur\")\n"
      ],
      "metadata": {
        "colab": {
          "base_uri": "https://localhost:8080/"
        },
        "id": "zp802udc9fxe",
        "outputId": "2687755e-2a1e-497f-f387-a71fa481ed1b"
      },
      "execution_count": 27,
      "outputs": [
        {
          "output_type": "stream",
          "name": "stdout",
          "text": [
            "iki kök vardır\n"
          ]
        }
      ]
    },
    {
      "cell_type": "code",
      "source": [
        "#ağırlık ve mesafeye göre kargo ücreti hesapla\n",
        "ağırlık= int(input(\"ağırlık giriniz:\"))\n",
        "mesafe= int(input(\"mesafe giriniz:\"))\n",
        "agirlilk = 12 #kg\n",
        "mesafe = 450 #km\n",
        "if agirlik <= 5:\n",
        "    print(\"ücret:\",agirlilk*ağırlık)\n",
        "        elif mesafe > 200:\n",
        "\n",
        "\n"
      ],
      "metadata": {
        "id": "TqD2YeW7-wKv"
      },
      "execution_count": null,
      "outputs": []
    },
    {
      "cell_type": "code",
      "source": [
        "#indirim tutarı hesapla\n",
        "tutar = int(input(\"tutarı giriniz:\"))\n",
        "if tutar > 1000:\n",
        "  indirim = tutar * 0.20\n",
        "elif tutar > 500:\n",
        "    indirim = tutar * 0.10\n",
        "elif tutar > 200:\n",
        "    indirim = tutar * 0.05\n",
        "else :\n",
        "    indirim = 0\n",
        "print(\"indirim tutarı:\",indirim)\n",
        "print(\"toplam tutar:\",tutar-indirim)"
      ],
      "metadata": {
        "colab": {
          "base_uri": "https://localhost:8080/"
        },
        "id": "9_zeqW5W_j7_",
        "outputId": "8d7ac635-bf26-4984-fcc7-7c819813c62e"
      },
      "execution_count": 29,
      "outputs": [
        {
          "output_type": "stream",
          "name": "stdout",
          "text": [
            "tutarı giriniz:500\n",
            "indirim tutarı: 25.0\n",
            "toplam tutar: 475.0\n"
          ]
        }
      ]
    },
    {
      "cell_type": "code",
      "source": [
        "#saat dilimi belirle\n",
        "saat = 14\n",
        "if saat >= 6 and saat <= 12:\n",
        "  dilim =\"Sabah\"\n",
        "elif saat >= 12 and saat < 18:\n",
        "  dilim =\"Öğleden Sonra\"\n",
        "elif saat >= 18 and saat < 22:\n",
        "  dilim = \"Akşam\"\n",
        "else:\n",
        "  dilim =\"Gece\"\n",
        "print(f\"Saat{saat}: {dilim}\")"
      ],
      "metadata": {
        "colab": {
          "base_uri": "https://localhost:8080/"
        },
        "id": "TAB9yaZ9A2Qx",
        "outputId": "5a4e9fa0-612f-4d7c-df5e-65fc6adb4fc8"
      },
      "execution_count": 34,
      "outputs": [
        {
          "output_type": "stream",
          "name": "stdout",
          "text": [
            "Saat14: Öğleden Sonra\n"
          ]
        }
      ]
    },
    {
      "cell_type": "code",
      "source": [],
      "metadata": {
        "id": "HRIMNpDKCDJ7"
      },
      "execution_count": null,
      "outputs": []
    }
  ]
}