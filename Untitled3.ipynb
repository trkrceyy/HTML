{
  "nbformat": 4,
  "nbformat_minor": 0,
  "metadata": {
    "colab": {
      "provenance": [],
      "authorship_tag": "ABX9TyN/bjM3Gv5mRHsdE1+G1fsC",
      "include_colab_link": true
    },
    "kernelspec": {
      "name": "python3",
      "display_name": "Python 3"
    },
    "language_info": {
      "name": "python"
    }
  },
  "cells": [
    {
      "cell_type": "markdown",
      "metadata": {
        "id": "view-in-github",
        "colab_type": "text"
      },
      "source": [
        "<a href=\"https://colab.research.google.com/github/trkrceyy/HTML/blob/main/Untitled3.ipynb\" target=\"_parent\"><img src=\"https://colab.research.google.com/assets/colab-badge.svg\" alt=\"Open In Colab\"/></a>"
      ]
    },
    {
      "cell_type": "code",
      "source": [
        "# Aşağıdaki işlemlerin sonuçlarını tahmin edin:\n",
        "print(15 // 4)\n",
        "print(15 % 4)\n",
        "print(2 ** 5)\n",
        "print(3 + 4 * 2)\n",
        "print((3 + 4) * 2)"
      ],
      "metadata": {
        "colab": {
          "base_uri": "https://localhost:8080/"
        },
        "id": "v0Q7sF9irxxM",
        "outputId": "2b72f76c-d328-4aab-df8a-fb97a3336bb0"
      },
      "execution_count": 1,
      "outputs": [
        {
          "output_type": "stream",
          "name": "stdout",
          "text": [
            "3\n",
            "3\n",
            "32\n",
            "11\n",
            "14\n"
          ]
        }
      ]
    },
    {
      "cell_type": "code",
      "source": [
        "#Soru 2: Karşılaştırma Operatörleri\n",
        "x = 10\n",
        "y = 7\n",
        "print(x > y)        # 10>7 True\n",
        "print(x == y)       # 10==7 False\n",
        "print(x != y)       # 10!=7 True\n",
        "print(x >= 10)      # 10>=10 True"
      ],
      "metadata": {
        "colab": {
          "base_uri": "https://localhost:8080/"
        },
        "id": "_dFDpb0mqjdR",
        "outputId": "2a5bb0c9-c97a-4c86-f9ad-6b6482c3d6d2"
      },
      "execution_count": 2,
      "outputs": [
        {
          "output_type": "stream",
          "name": "stdout",
          "text": [
            "True\n",
            "False\n",
            "True\n",
            "True\n"
          ]
        }
      ]
    },
    {
      "cell_type": "code",
      "source": [
        "#Soru 3: is ve == Farkı\n",
        "\n",
        "a = 100\n",
        "b = 100\n",
        "c = 500\n",
        "d = 500\n",
        "\n",
        "print(a is b)       # 100 is 100 True\n",
        "print(c is d)       # 500 is 500 False\n",
        "print(a == b)       # 100 == 100 True\n",
        "print(c == d)       # 500 == 500 True\n",
        "#Büyük sayılarda bellekte daha fazla yer tutulur"
      ],
      "metadata": {
        "colab": {
          "base_uri": "https://localhost:8080/"
        },
        "id": "OLHQ4O0GrCH2",
        "outputId": "bcd146ff-095c-4cfb-86e8-8cbbddf9acc3"
      },
      "execution_count": 4,
      "outputs": [
        {
          "output_type": "stream",
          "name": "stdout",
          "text": [
            "True\n",
            "False\n",
            "True\n",
            "True\n"
          ]
        }
      ]
    },
    {
      "cell_type": "code",
      "source": [
        "#Soru 4: Mantık Soruları\n",
        "x = 15\n",
        "y = 20\n",
        "z = 25\n",
        "\n",
        "print((x < y) and (y < z))          # (15<20) and (20<25) False\n",
        "print((x > y) or (y < z))           # (15>20) or (20<25) True\n",
        "print(not (x == y))                 # (not(15==20)) True\n",
        "print((x < y) and (y > z or x < z)) # (15<20)and (20>25 or 15<25) True"
      ],
      "metadata": {
        "colab": {
          "base_uri": "https://localhost:8080/"
        },
        "id": "xilk6qTYr_1I",
        "outputId": "a9598bdf-bde2-48e1-9c7b-d9206fdc5fcb"
      },
      "execution_count": 5,
      "outputs": [
        {
          "output_type": "stream",
          "name": "stdout",
          "text": [
            "True\n",
            "True\n",
            "True\n",
            "True\n"
          ]
        }
      ]
    },
    {
      "cell_type": "code",
      "source": [
        "#Soru 6: İf-elif-else Zinciri\n",
        "notu = 85\n",
        "\n",
        "if notu >= 90:\n",
        "    print(\"AA\")\n",
        "elif notu >= 80:\n",
        "    print(\"BA\")\n",
        "elif notu >= 70:\n",
        "    print(\"BB\")\n",
        "else:\n",
        "    print(\"Kaldı\")\n",
        "# Çıktı ne olur? BA\n",
        "#İf eğer koşul gerçekleşiyor ise kodu çalıştır\n",
        "#İf koşulu sağlamadı bir sonrakine bakacağız\n",
        "#not 85 yani evet 80 den büyük\n"
      ],
      "metadata": {
        "colab": {
          "base_uri": "https://localhost:8080/"
        },
        "id": "NFn9r3rPtLce",
        "outputId": "50c61ff9-beb6-4051-8ba9-a45ae96a253d"
      },
      "execution_count": 6,
      "outputs": [
        {
          "output_type": "stream",
          "name": "stdout",
          "text": [
            "BA\n"
          ]
        }
      ]
    },
    {
      "cell_type": "code",
      "source": [
        "#Soru 7: İç İçe If Yapısı\n",
        "yas = 20\n",
        "ehliyet = True\n",
        "\n",
        "if yas >= 18:\n",
        "    if ehliyet:\n",
        "        print(\"Araç kullanabilir\")\n",
        "    else:\n",
        "        print(\"Ehliyetiniz yok\")\n",
        "else:\n",
        "    print(\"Yaşınız tutmuyor\")\n",
        "\n",
        "    #else hiçbir koşul sağlanmıyorsa o kısmı çalıştırır.\n",
        "    #yas 20 evet 18 den büyük koşul sağlandı\n",
        "    #ekran çıktısı \"Araç kullanabilir\"\n",
        ""
      ],
      "metadata": {
        "colab": {
          "base_uri": "https://localhost:8080/"
        },
        "id": "Iuce4aJEtyTu",
        "outputId": "f9606fac-b748-4624-965f-b92939dc6be2"
      },
      "execution_count": 7,
      "outputs": [
        {
          "output_type": "stream",
          "name": "stdout",
          "text": [
            "Araç kullanabilir\n"
          ]
        }
      ]
    },
    {
      "cell_type": "code",
      "source": [
        "#Soru 9: Tip Dönüşümü\n",
        "\n",
        "\n",
        "# Hangi satırlarda hata olur?\n",
        "x = \"15\"\n",
        "y = int(x) + 5 #15+5=20\n",
        "z = float(\"3.14\") #3,14\n",
        "w = int(\"merhaba\")\n",
        "a = bool(0) #0 ın karşılığı False dir\n",
        "b = bool(\"False\") #True\n",
        "c = str(123) + \"456\" #iki ifadeyi yan yana yazarız 123456\n",
        "#metinsel ifadeler yani stringler sayıya dönüşemez w kısmında hata var"
      ],
      "metadata": {
        "id": "6ek08jC1vRJG"
      },
      "execution_count": null,
      "outputs": []
    },
    {
      "cell_type": "code",
      "source": [
        "ad = \"Ali\"\n",
        "yas = 25\n",
        "print(ad, \"bu yıl\", yas, \"yaşında\")\n",
        "print(ad + \" bu yıl \" + str(yas) + \" yaşında\")  # Ali bu yıl 25 yaşında\n",
        "print(f\"{ad} bu yıl {yas} yaşında\")      # Ali bu yıl 25 yaşında\n",
        "#f string ile + koymaya gerek kalmadan birleştirme yaptık"
      ],
      "metadata": {
        "id": "2M83SndgvSol"
      },
      "execution_count": null,
      "outputs": []
    },
    {
      "cell_type": "code",
      "source": [
        "\n",
        "  \"\"\"\n",
        "    ❓ DEĞERLENDİRME SORULARI\n",
        "    \"10\" + 5 işlemi neden hata verir? Nasıl düzeltilir?\n",
        "\n",
        "    0.1 + 0.2 == 0.3 ifadesi neden False döner?\n",
        "\n",
        "    and ve or operatörlerinin öncelik sırası nedir?\n",
        "\n",
        "    input() fonksiyonu neden her zaman string döndürür?\n",
        "    \"\"\""
      ],
      "metadata": {
        "id": "57YxOQ26wW-G"
      },
      "execution_count": null,
      "outputs": []
    },
    {
      "cell_type": "code",
      "source": [
        "print (10+5)\n",
        "#tırnak içine aldığız igfade string olur yani metin toplama yapmaz yan yana yazar"
      ],
      "metadata": {
        "colab": {
          "base_uri": "https://localhost:8080/"
        },
        "id": "ndImQzZBwbvU",
        "outputId": "d6a9521e-dccb-4da6-ff15-515e203ebb86"
      },
      "execution_count": 11,
      "outputs": [
        {
          "output_type": "stream",
          "name": "stdout",
          "text": [
            "15\n"
          ]
        }
      ]
    },
    {
      "cell_type": "code",
      "source": [
        "o.1 + 0.2 ==0.3\n",
        "#bu işlemin cevabı 0.30000 büyük bir sayıdır bu yüzden False döner\n",
        "#abs((0.1 +0.2)-0.3)<0.00001 True"
      ],
      "metadata": {
        "id": "Qd3mjHS5wwMt"
      },
      "execution_count": null,
      "outputs": []
    },
    {
      "cell_type": "code",
      "source": [
        "# and ve or\n",
        "#And-- İki koşul da doğru ise True döner koşul1 False ise cevap False döner\n",
        "#Kod soldan sağa okur\n",
        "#Or-- Koşul1 True ise cevap True döner"
      ],
      "metadata": {
        "id": "WnjRdONPxj_l"
      },
      "execution_count": null,
      "outputs": []
    },
    {
      "cell_type": "code",
      "source": [
        "#input fonksiyonu\n",
        "#Çünkü input kullancıdan gelen veriyi alır gelen veri metin kabul edilir\n",
        "#int ya da float ile sayısal değere çevirebiliriz\n"
      ],
      "metadata": {
        "id": "h4lrOnkhyAl3"
      },
      "execution_count": null,
      "outputs": []
    },
    {
      "cell_type": "code",
      "source": [
        "boy = float(input(\"Boyunuz (m): \"))\n",
        "kilo = float(input(\"Kilonuz (kg): \"))\n",
        "\n",
        "vki = kilo / (boy ** 2)\n",
        "\n",
        "if vki < 18.5:\n",
        "    durum = \"Zayıf\"\n",
        "elif vki < 25:\n",
        "    durum = \"Normal\"\n",
        "elif vki < 30:\n",
        "    durum = \"Fazla kilolu\"\n",
        "else:\n",
        "    durum = \"Obez\"\n",
        "\n",
        "print(f\"VKİ: {vki:.2f} - Durum: {durum}\")"
      ],
      "metadata": {
        "id": "JAWbzyZDz4Nq"
      },
      "execution_count": null,
      "outputs": []
    },
    {
      "cell_type": "code",
      "source": [
        "boy =float(input (\"Boyunuz (m): \"))\n",
        "kilo = float(input(\"Kilonuz (kg): \"))\n",
        "\n",
        "vki= kilo / (boy**2)\n",
        "if vki < 18.5 :\n",
        "  durum =\"Zayıf\"\n",
        "elif vki < 25:\n",
        "  durum = \"Normal\"\n",
        "elif vki < 30:\n",
        "  durum = \"Fazla kilolu\"\n",
        "else :\n",
        "    durum = \"Obez\"\n",
        "print(f\"VKİ: {vki:.2f} - Durum: {durum}\")"
      ],
      "metadata": {
        "colab": {
          "base_uri": "https://localhost:8080/"
        },
        "id": "vWz1gxrp0Bnf",
        "outputId": "5efb50a2-3800-417f-d42f-ab1ff7095aa7"
      },
      "execution_count": 16,
      "outputs": [
        {
          "output_type": "stream",
          "name": "stdout",
          "text": [
            "Boyunuz (m): 170\n",
            "Kilonuz (kg): 70\n",
            "VKİ: 0.00 - Durum: Zayıf\n"
          ]
        }
      ]
    },
    {
      "cell_type": "code",
      "source": [
        "# Kullanıcıdan birinci sayıyı al\n",
        "sayi1 = float(input(\"Birinci sayı: \"))\n",
        "\n",
        "# Kullanıcıdan ikinci sayıyı al\n",
        "sayi2 = float(input(\"İkinci sayı: \"))\n",
        "\n",
        "# Kullanıcıdan işlemi al\n",
        "islem = input(\"İşlem (+, -, *, /): \")\n",
        "\n",
        "# İşleme göre sonucu hesapla\n",
        "if islem == \"+\":\n",
        "    sonuc = sayi1 + sayi2\n",
        "    print(\"Sonuç:\", sonuc)\n",
        "elif islem == \"-\":\n",
        "    sonuc = sayi1 - sayi2\n",
        "    print(\"Sonuç:\", sonuc)\n",
        "elif islem == \"*\":\n",
        "    sonuc = sayi1 * sayi2\n",
        "    print(\"Sonuç:\", sonuc)\n",
        "elif islem == \"/\":\n",
        "    if sayi2 != 0:\n",
        "        sonuc = sayi1 / sayi2\n",
        "        print(\"Sonuç:\", sonuc)\n",
        "    else:\n",
        "        print(\"Hata: Sıfıra bölünemez!\")\n",
        "else:\n",
        "    print(\"Geçersiz işlem\")"
      ],
      "metadata": {
        "colab": {
          "base_uri": "https://localhost:8080/"
        },
        "id": "3kDRCE0T1TPe",
        "outputId": "9b623886-a39b-4c9d-98d3-4ea5b054b865"
      },
      "execution_count": 17,
      "outputs": [
        {
          "output_type": "stream",
          "name": "stdout",
          "text": [
            "Birinci sayı: 10.2\n",
            "İkinci sayı: 15.1\n",
            "İşlem (+, -, *, /): +\n",
            "Sonuç: 25.299999999999997\n"
          ]
        }
      ]
    }
  ]
}